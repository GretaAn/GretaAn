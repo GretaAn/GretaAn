{
 "cells": [
  {
   "cell_type": "code",
   "execution_count": null,
   "id": "5be75036",
   "metadata": {},
   "outputs": [],
   "source": [
    "pip install praw --upgrade praw"
   ]
  },
  {
   "cell_type": "code",
   "execution_count": null,
   "id": "27f1ae56",
   "metadata": {},
   "outputs": [],
   "source": [
    "import praw\n",
    "from praw.models import MoreComments\n",
    "import string\n",
    "import re\n",
    "import nltk \n",
    "from nltk.text import Text\n",
    "from nltk.draw.dispersion import dispersion_plot\n",
    "from nltk import FreqDist\n",
    "from nltk.corpus import stopwords\n",
    "from nltk.stem import WordNetLemmatizer\n",
    "from nltk.tokenize import word_tokenize\n",
    "import matplotlib.pyplot as plt\n",
    "from nltk.collocations import BigramCollocationFinder\n"
   ]
  },
  {
   "cell_type": "markdown",
   "id": "35dde0d0",
   "metadata": {},
   "source": [
    "## Load raw data"
   ]
  },
  {
   "cell_type": "code",
   "execution_count": null,
   "id": "41474816",
   "metadata": {},
   "outputs": [],
   "source": [
    "def get_post_data():\n",
    "    reddit = praw.Reddit(client_id='-sgTOKuB8OpYmcvV0gf1DQ', \\\n",
    "                         client_secret='p3cKCHZ4xhK0PVUzB9KUhupYpNvuHg', \\\n",
    "                         user_agent='crawler')\n",
    "    url = \"https://www.reddit.com/r/Coronavirus/comments/pbo8yv/misinformation_is_bad_good_information_is_good/\"\n",
    "    data = reddit.submission(url=url)\n",
    "\n",
    "    return data"
   ]
  },
  {
   "cell_type": "code",
   "execution_count": null,
   "id": "b088a87e",
   "metadata": {},
   "outputs": [],
   "source": [
    "raw_posts = get_post_data()"
   ]
  },
  {
   "cell_type": "markdown",
   "id": "68f169c8",
   "metadata": {},
   "source": [
    "## Inspect raw data"
   ]
  },
  {
   "cell_type": "code",
   "execution_count": null,
   "id": "e0459c7b",
   "metadata": {},
   "outputs": [],
   "source": [
    "def inspect_raw_posts(raw_posts):\n",
    "    for top_level_comment in raw_posts.comments:\n",
    "        print(top_level_comment.body)"
   ]
  },
  {
   "cell_type": "code",
   "execution_count": null,
   "id": "d8490bca",
   "metadata": {},
   "outputs": [],
   "source": [
    "inspect_raw_posts(raw_posts)"
   ]
  },
  {
   "cell_type": "markdown",
   "id": "36e1345e",
   "metadata": {},
   "source": [
    "## Clean Text"
   ]
  },
  {
   "cell_type": "code",
   "execution_count": null,
   "id": "8ad5adba",
   "metadata": {},
   "outputs": [],
   "source": [
    "def remove_links(post):\n",
    "    post = re.sub(\"http\\S*\\s\", \"\", post)\n",
    "    return post"
   ]
  },
  {
   "cell_type": "code",
   "execution_count": null,
   "id": "9d0956ba",
   "metadata": {},
   "outputs": [],
   "source": [
    "def lemmatize(post):\n",
    "    lemmatizer = WordNetLemmatizer()\n",
    "    lemmatized_post = lemmatizer.lemmatize(post) \n",
    "    return lemmatized_post"
   ]
  },
  {
   "cell_type": "code",
   "execution_count": null,
   "id": "7ad5a5dc",
   "metadata": {},
   "outputs": [],
   "source": [
    "def remove_punctuation(post):\n",
    "    table = str.maketrans('', '', string.punctuation) \n",
    "    post = [w.translate(table) for w in post] \n",
    "    return post"
   ]
  },
  {
   "cell_type": "code",
   "execution_count": null,
   "id": "a59916f4",
   "metadata": {},
   "outputs": [],
   "source": [
    "def remove_stopwords(post):\n",
    "    stop_words = nltk.corpus.stopwords.words('english')\n",
    "    new_stopwords = [\"would\" , \"etc\" , \"url\" , \"https\" , \"jpeg\"] \n",
    "    stop_words.extend(new_stopwords) \n",
    "    post = [w for w in post if not w in stop_words] \n",
    "    \n",
    "    return post\n",
    "  "
   ]
  },
  {
   "cell_type": "code",
   "execution_count": null,
   "id": "de95a752",
   "metadata": {},
   "outputs": [],
   "source": [
    "def remove_digits(post):\n",
    "    post = [w for w in post if w.isalpha()]\n",
    "    return post"
   ]
  },
  {
   "cell_type": "code",
   "execution_count": null,
   "id": "5fd949eb",
   "metadata": {},
   "outputs": [],
   "source": [
    "def clean_text(post):\n",
    "   \n",
    "    post = post.lower()\n",
    "    post = remove_links(post)\n",
    "    post = lemmatize(post)\n",
    "    post = word_tokenize(post) \n",
    "    post = remove_punctuation(post)\n",
    "    post = remove_stopwords(post)\n",
    "    post = remove_digits(post)\n",
    "  \n",
    "    return post\n",
    "    \n"
   ]
  },
  {
   "cell_type": "markdown",
   "id": "75c1e817",
   "metadata": {},
   "source": [
    "## Apply text cleaning"
   ]
  },
  {
   "cell_type": "code",
   "execution_count": null,
   "id": "a44e84fa",
   "metadata": {
    "scrolled": true
   },
   "outputs": [],
   "source": [
    "def apply_text_cleaning(raw_posts):\n",
    "    cleaned_posts = []\n",
    "    for top_level_comment in raw_posts.comments[1:]:\n",
    "\n",
    "        if isinstance(top_level_comment, MoreComments):\n",
    "            continue #remove second level comments\n",
    "\n",
    "        raw_post = top_level_comment.body\n",
    "        cleaned_post = clean_text(raw_post)\n",
    "\n",
    "        if cleaned_post in [\"removed\" , \"deleted\"]: #remove deleted comments\n",
    "            continue\n",
    "\n",
    "        cleaned_posts.append(cleaned_post)\n",
    "        \n",
    "    return cleaned_posts"
   ]
  },
  {
   "cell_type": "code",
   "execution_count": null,
   "id": "73ac9d28",
   "metadata": {},
   "outputs": [],
   "source": [
    "cleaned_posts = apply_text_cleaning(raw_posts) "
   ]
  },
  {
   "cell_type": "markdown",
   "id": "f78f5b06",
   "metadata": {},
   "source": [
    "## Check results of text cleaning"
   ]
  },
  {
   "cell_type": "code",
   "execution_count": null,
   "id": "7dbc3453",
   "metadata": {},
   "outputs": [],
   "source": [
    "def inspect_cleaned_posts(cleaned_posts):\n",
    "    for post in cleaned_posts:\n",
    "        print(post ,\"\\n\" )"
   ]
  },
  {
   "cell_type": "code",
   "execution_count": null,
   "id": "2d2f6aa9",
   "metadata": {},
   "outputs": [],
   "source": [
    "inspect_cleaned_posts(cleaned_posts)"
   ]
  },
  {
   "cell_type": "markdown",
   "id": "8297fe66",
   "metadata": {},
   "source": [
    "## Prepare tokens for analysing"
   ]
  },
  {
   "cell_type": "code",
   "execution_count": null,
   "id": "753e8199",
   "metadata": {},
   "outputs": [],
   "source": [
    "def transform_posts(cleaned_posts):\n",
    "    transformed_posts = []\n",
    "    for post in cleaned_posts:\n",
    "        transformed_posts.extend(post)\n",
    "    transformed_posts = Text(transformed_posts)\n",
    "    return transformed_posts"
   ]
  },
  {
   "cell_type": "code",
   "execution_count": null,
   "id": "3dff05cd",
   "metadata": {},
   "outputs": [],
   "source": [
    "transformed_posts = transform_posts(cleaned_posts) "
   ]
  },
  {
   "cell_type": "markdown",
   "id": "244b688e",
   "metadata": {},
   "source": [
    "### Lexical dispertion"
   ]
  },
  {
   "cell_type": "code",
   "execution_count": null,
   "id": "051c69f7",
   "metadata": {},
   "outputs": [],
   "source": [
    "targets=[\"misinformation\" , \"information\", \"vaccination\", \"vaccine\" , \"virus\" , \"bias\"]\n",
    "dispersion_plot(transformed_posts, targets, title='Lexical Dispersion Plot')"
   ]
  },
  {
   "cell_type": "markdown",
   "id": "3859ea01",
   "metadata": {},
   "source": [
    "### Frequency distribution"
   ]
  },
  {
   "cell_type": "code",
   "execution_count": null,
   "id": "d1242303",
   "metadata": {},
   "outputs": [],
   "source": [
    "\n",
    "frequency_distribution = FreqDist(transformed_posts)\n",
    "frequency_distribution.most_common(20)"
   ]
  },
  {
   "cell_type": "code",
   "execution_count": null,
   "id": "65b7394e",
   "metadata": {},
   "outputs": [],
   "source": [
    "frequency_distribution.plot(20, cumulative=False)"
   ]
  },
  {
   "cell_type": "markdown",
   "id": "c246c41d",
   "metadata": {},
   "source": [
    "### Collocations of \"vaccine\""
   ]
  },
  {
   "cell_type": "code",
   "execution_count": null,
   "id": "bca25490",
   "metadata": {},
   "outputs": [],
   "source": [
    "bigram_measures = nltk.collocations.BigramAssocMeasures()\n",
    "word_filter = lambda *w: 'vaccine' not in w\n",
    "finder = BigramCollocationFinder.from_words(transformed_posts)\n",
    "finder.apply_ngram_filter(word_filter)\n",
    "finder.nbest(bigram_measures.likelihood_ratio , 10)"
   ]
  },
  {
   "cell_type": "code",
   "execution_count": null,
   "id": "1cedb8ce",
   "metadata": {},
   "outputs": [],
   "source": [
    "transformed_posts.collocations(10)"
   ]
  },
  {
   "cell_type": "code",
   "execution_count": null,
   "id": "76586f23",
   "metadata": {},
   "outputs": [],
   "source": []
  }
 ],
 "metadata": {
  "kernelspec": {
   "display_name": "Python 3",
   "language": "python",
   "name": "python3"
  },
  "language_info": {
   "codemirror_mode": {
    "name": "ipython",
    "version": 3
   },
   "file_extension": ".py",
   "mimetype": "text/x-python",
   "name": "python",
   "nbconvert_exporter": "python",
   "pygments_lexer": "ipython3",
   "version": "3.8.8"
  }
 },
 "nbformat": 4,
 "nbformat_minor": 5
}
