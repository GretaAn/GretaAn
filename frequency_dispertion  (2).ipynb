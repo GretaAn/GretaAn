{
 "cells": [
  {
   "cell_type": "code",
   "execution_count": 1,
   "id": "5be75036",
   "metadata": {},
   "outputs": [
    {
     "name": "stdout",
     "output_type": "stream",
     "text": [
      "Requirement already satisfied: praw in c:\\users\\andre\\anaconda3\\lib\\site-packages (7.5.0)\n",
      "Requirement already satisfied: websocket-client>=0.54.0 in c:\\users\\andre\\anaconda3\\lib\\site-packages (from praw) (1.2.1)\n",
      "Requirement already satisfied: prawcore<3,>=2.1 in c:\\users\\andre\\anaconda3\\lib\\site-packages (from praw) (2.3.0)\n",
      "Requirement already satisfied: update-checker>=0.18 in c:\\users\\andre\\anaconda3\\lib\\site-packages (from praw) (0.18.0)\n",
      "Requirement already satisfied: requests<3.0,>=2.6.0 in c:\\users\\andre\\anaconda3\\lib\\site-packages (from prawcore<3,>=2.1->praw) (2.25.1)\n",
      "Requirement already satisfied: urllib3<1.27,>=1.21.1 in c:\\users\\andre\\anaconda3\\lib\\site-packages (from requests<3.0,>=2.6.0->prawcore<3,>=2.1->praw) (1.26.4)\n",
      "Requirement already satisfied: certifi>=2017.4.17 in c:\\users\\andre\\anaconda3\\lib\\site-packages (from requests<3.0,>=2.6.0->prawcore<3,>=2.1->praw) (2020.12.5)\n",
      "Requirement already satisfied: chardet<5,>=3.0.2 in c:\\users\\andre\\anaconda3\\lib\\site-packages (from requests<3.0,>=2.6.0->prawcore<3,>=2.1->praw) (4.0.0)\n",
      "Requirement already satisfied: idna<3,>=2.5 in c:\\users\\andre\\anaconda3\\lib\\site-packages (from requests<3.0,>=2.6.0->prawcore<3,>=2.1->praw) (2.10)\n",
      "Note: you may need to restart the kernel to use updated packages.\n"
     ]
    }
   ],
   "source": [
    "pip install praw --upgrade praw"
   ]
  },
  {
   "cell_type": "code",
   "execution_count": 2,
   "id": "27f1ae56",
   "metadata": {},
   "outputs": [],
   "source": [
    "import praw\n",
    "from praw.models import MoreComments\n",
    "import string\n",
    "import re\n",
    "import nltk \n",
    "from nltk.text import Text\n",
    "from nltk.draw.dispersion import dispersion_plot\n",
    "from nltk import FreqDist\n",
    "from nltk.corpus import stopwords\n",
    "from nltk.stem import WordNetLemmatizer\n",
    "from nltk.tokenize import word_tokenize\n",
    "import matplotlib.pyplot as plt\n",
    "from nltk.collocations import BigramCollocationFinder\n"
   ]
  },
  {
   "cell_type": "markdown",
   "id": "35dde0d0",
   "metadata": {},
   "source": [
    "## Load raw data"
   ]
  },
  {
   "cell_type": "code",
   "execution_count": 3,
   "id": "41474816",
   "metadata": {},
   "outputs": [],
   "source": [
    "def get_post_data():\n",
    "    reddit = praw.Reddit(client_id='-sgTOKuB8OpYmcvV0gf1DQ', \\\n",
    "                         client_secret='p3cKCHZ4xhK0PVUzB9KUhupYpNvuHg', \\\n",
    "                         user_agent='crawler')\n",
    "    url = \"https://www.reddit.com/r/Coronavirus/comments/pbo8yv/misinformation_is_bad_good_information_is_good/\"\n",
    "    data = reddit.submission(url=url)\n",
    "\n",
    "    return data"
   ]
  },
  {
   "cell_type": "code",
   "execution_count": 4,
   "id": "b088a87e",
   "metadata": {},
   "outputs": [],
   "source": [
    "raw_posts = get_post_data()"
   ]
  },
  {
   "cell_type": "markdown",
   "id": "68f169c8",
   "metadata": {},
   "source": [
    "## Inspect raw data"
   ]
  },
  {
   "cell_type": "code",
   "execution_count": 5,
   "id": "e0459c7b",
   "metadata": {},
   "outputs": [],
   "source": [
    "def inspect_raw_posts(raw_posts):\n",
    "    for top_level_comment in raw_posts.comments:\n",
    "        print(top_level_comment.body)"
   ]
  },
  {
   "cell_type": "code",
   "execution_count": 6,
   "id": "d8490bca",
   "metadata": {},
   "outputs": [
    {
     "name": "stdout",
     "output_type": "stream",
     "text": [
      "The moderators of this sub support efforts to more strongly combat COVID-19 misinformation on Reddit. We believe our sub is one of the best places on Reddit, and maybe the internet, to get accurate and timely information on the pandemic, and we take a strong stance against misinformation. In our opinion, it would be counterproductive to make one of the most accurate subs on Reddit private in order to combat misinformation on Reddit. If you would like to discuss the current happenings in regards to subs going private, please do so on this sticky. Feel free to share this post with others who are seeking accurate information. All other meta-drama comments will be removed. Thanks!\n",
      "When I read COVID misinformation that is completely contrary to the overwhelming consensus of the medical community, I’m reminded of all the weird shows that would come on late night cable TV when I was kid. \n",
      "\n",
      "Those cheaply produced shows, structured as a documentary, would convince people that there were actually aliens popping out of the ocean daily, with blurred footage and ominous talk tracks. \n",
      "\n",
      "They’d tell you there was a monk in China/India/wherever who could stop his heart and restart it just by thinking about it. Or that he could overcome heat/freezing cold etc by controlling his body. Or that he could levitate through meditation. \n",
      "\n",
      "Was it entertaining to watch? Sure. \n",
      "\n",
      "And without doing even the bare minimum fact-checking into their stories, as a kid it could even be mildly convincing. \n",
      "\n",
      "You felt like there could be this whole “other” reality where the status quo was completely wrong. \n",
      "\n",
      "Magic *might* be *real*. \n",
      "\n",
      "And you just happened to stumble upon it at 1:40 AM on Tuesday night as you’re home sick from school. \n",
      "\n",
      "But even as a kid, would I **stake my life** on it being true/real and light myself on fire/lock myself in a freezer/jump off a building?\n",
      "\n",
      "Absolutely fucking not. \n",
      "\n",
      "People are lighting themselves on fire bc they read a convincing enough narrative about it on the internet.\n",
      "So much of the misinformation that gets spread stems from online sources like Facebook and Twitter. Usually, the root of the data that produced the misinformation stems from a website.\n",
      "\n",
      "Here are some cool tips to help you know what's _probably_ real and what's _probably_ not while you're surfin' the World Wide Web.\n",
      "\n",
      "This post will be updated live on [GitHub](https://gist.github.com/carlosonunez/98ec4c79b6d1d7ef4a7538a3111196ec) as well.\n",
      "\n",
      "## FactCheck.org is your friend\n",
      "\n",
      "FactCheck.org is an unbiased (to my knowledge) place to check the facts. They even cover viral tweets and Instagram posts, like [this one](https://www.factcheck.org/2021/08/instagram-post-wrong-on-u-s-casualties-in-afghanistan/). It's an amazing resource in helping combat misinformation.\n",
      "\n",
      "## Check the URL. It might be \"known\" Fake News\n",
      "\n",
      "There's a well known repository of websites that have been marked as being known Fake News. You can find them [here](https://gist.github.com/napsternxg/1b59a1434f2d93c56a9eb71d2cfb9338). It's a bit stale at 17 months old, but it's a good first step. Wikipedia also maintains a separate list [here](https://en.wikipedia.org/wiki/List_of_fake_news_websites).\n",
      "\n",
      "If what you're reading (or what you've been given) is on one of these lists, then it is _highly likely_ that what you're reading is misinformation.\n",
      "\n",
      "## ALWAYS find the source\n",
      "\n",
      "You received a Facebook post from a relative with a quote or JPEG that seems highly suspicious. Where did it come from?\n",
      "\n",
      "If it looks like it came from a website, search for the _exact_ phrase of the suspicious sentence or phrase on Google, like this:\n",
      "\n",
      ">\t“COVID-19 vaccines have microchips”\n",
      "\n",
      "Notice the quotation marks. This tells Google that you want to perform an *exact match search*. Google will only show you websites that contain this exact phrase on the page.\n",
      "\n",
      "Google supports a wide variety of search operators that can help you find information. Learn more about them [here](https://www.searchenginejournal.com/google-search-operators-commands/215331/).\n",
      "\n",
      "More often than not, this will provide search results of one to many news sources from which this quote was sourced. If you’re interested in finding the _true_ source of the article, try using the “`before:`” operator in Google search or use Google Trends to narrow down the results.\n",
      "\n",
      "## Do some Twitter sleuthing\n",
      "\n",
      "A significant amount of misinformation comes from Twitter. While Twitter is harder to navigate than Google given the absolutely insane amount of data they process, it isn’t impossible.\n",
      "\n",
      "First, see when the Twitter account of the user that posted the article was created.\n",
      "\n",
      "Next, try and look at some of the user’s _early posts_. This might give you more insight into their connections or motivations. You can use Twitter’s advanced search to help you here; learn more [here](https://twitter.com/search-advanced?lang=en).\n",
      "\n",
      "## Who owns that domain?\n",
      "\n",
      "If your source is coming from a website, you _might_ be able to find out who owns what by conducting a WHOIS on the domain. While most savvier web administrators will use their hosting provider’s privacy protection feature to mask ownership, some don’t. This can help you identify who’s behind what.\n",
      "\n",
      "ICANN (Internet Corporation for Assigned Names and Numbers) maintains an online WHOIS tool for this purpose. You can find that [here](https://lookup.icann.org/lookup).\n",
      "\n",
      "## Check their About page!\n",
      "\n",
      "Regardless of whether a website’s domain ownership is private or not, that website you’re looking at probably costs money to host. More importantly, generating enough content to maintain a sizable social media following costs money. And we all know that money has to come from somewhere!\n",
      "\n",
      "I like to check the “About Us” page of a site that I’m looking at. This will usually give you a list of people behind the site. Bigger publications will have a Board of Directors that oversees operations. If you have time, this is a good place to play “Follow the Money”.\n",
      "\n",
      "Do they run or participate in large non-profits or think tanks that divert significant resources to a specific agenda or ideology?\n",
      "\n",
      "Are they related to or connected with politicians or other business interests that have patterns?\n",
      "\n",
      "All of this, and more, can sometimes be answered by playing “Follow the Money.”\n",
      "\n",
      "## Where is the analytics going?\n",
      "\n",
      "Most highly-trafficked websites will use Google Analytics to collect information on user engagement and trends, like the pages that people are looking at most or the elements on a page that are being clicked on most often. This information is collected by way of a JavaScript function that executes “client-side,” or on your computer. Google Analytics, or “GA,” uses a _globally-unique_ ID to correlate which website data belongs to what website. Because this script executes client-side, the GA ID _must_ be embedded onto the webpage.\n",
      "\n",
      "Some websites embed their GA into the source code of the page. To see if they do, go to [DNSLytics](https://dnslytics.com/reverse-analytics) and plug in the domain. You might find other domains that have been created by the same web administrator, which could produce some interesting results!\n",
      "\n",
      "Note that bigger websites, like Reddit, run their own “click-farms” and analytics data warehouses. This method won’t work on websites that do this.\n",
      "\n",
      "## Use Critical Thinking\n",
      "\n",
      "The biggest defense against being manipulated by fake news isn’t technical! _Use your brain, **actively** seek dissenting opinions, and make your own conclusions!_\n",
      "\n",
      "I realize that most won’t have the time to do a full workup on a single news article. However, you can glean a lot of information on what “the other side” is saying just by _sorting by Controversal_ here on Reddit. Most of the time, this (and some links that those posters will provide) is enough for you to get a “360 degree” view into a specific issue, which should be enough for you to form your own opinion.\n",
      "\n",
      "If you find yourself _unwilling_ to do this (because you don’t want to hear what the other side is saying), _then you might be in the process of being manipulated!_ **Don’t let emotions blind you from the facts!**\n",
      "\n",
      "If you’re thinking “Wow, this is a lot of time to just get at the truth,” then you’re right! It _is_ a lot of time! Unfortunately, given how quickly information spreads on the Internet these days (it took me _12ms_ to reach Twitter’s edge network from Houston in California; light is WAY faster than this!), the quantity of information out there, and the _finite amount of time we all have_, it is very easy to let headlines drive your decision making. If you really want to know where you stand on something, you _have_ to make the time.\n",
      "\n",
      "## A Real World Example!\n",
      "\n",
      "Coming soon.\n",
      "Because this gives me an outlet, I'm going to vent (thank you for those who indulge me.)\n",
      "\n",
      "If you choose to not get the vaccine, you are selfish.  Period.  You do not care that it does not only affect you.  \n",
      "\n",
      "You do not care that you are quite potentially the reason the virus cannot be controlled since it has too many hosts available to mutate and continue on its one, true path which is to thrive and exist.\n",
      "\n",
      "I'm done having patience with anyone who questioned the efficacy of vaccines that were developed quickly in order to save lives.  We have now had vaccines available for almost a year,  The vaccine is proving to be the strongest layer for preventing the spread of the virus.  Masks have now had a year of studies showing they, when used properly and consistently worn, greatly reduce the spread of the virus.\n",
      "\n",
      "If you choose, for entirely non-science based reasons, to flout these basic means of stopping this virus, you are not a good person.  You are selfish, stupid, and not entitled to any medical treatment.  I'm done with you.  I teach.  I am doing my part.  If I get a variant, spread it to others despite doing my part, it's completely and totally on you guys who won't take responsibility for keeping your community safe.\n",
      "\n",
      "Argue if you must....I'm not having it.\n",
      "Its easy to say good information good and bad information bad. In practice that doesnt mean much.\n",
      "\n",
      "I was permanently banned from vaxxhappened for posting a link to Science Magazine, one of the approved good information good sources on this page with more up to date figures for vaccine efficacy against Delta than they have shared in their petition.\n",
      "\n",
      "Thats the reality of what will happen. Some power mod in charge of hundreds of subs will have a poor grasp of information and will just ban people that he or ahe perceives as being on a different side.\n",
      "So are you saying the claim that unvaccinated sperm is worth 23,000% more to women was false?\n",
      "Can you Imagine reading this headline 10 years ago?\n",
      "remember when saying you should wear a mask was considered misinformation. Pepperidge farms remembers\n",
      "Ah yes the floor here is made of floor\n",
      "There's a lot of talk about what information is bad, what's good, etc.  Some of this is not hard, though.  If emergency rooms are overflowing, and nurses and doctors are shouting at the top of their lungs to reporters and twitter and anyone who will listen, then --- yeah, I believe those doctors and nurses.\n",
      "\n",
      "A good way to find out whether information is good is to seek out information that disagrees with it, and then evaluate both points of view.  Use your questions to find keywords that can be used in search engines, or just enter the question in the search bar.  This defeats search engine algorithms.  But it takes time.  Considering these are life-and-death questions, the time is worth taking, imo.\n",
      "\n",
      "One more thing because I'm hearing a lot about how people are hostile to other points of view, and this is true.  The number of public health administrators who have quit over death threats is kind of astonishing.  People didn't want to hear what they were saying --- so they threatened them, and their kids and families.   This has been going on since the very beginning.\n",
      "Need to stop expecting the average person to be able to correctly identify misinformation and decide for themselves to disregard it. The daily firehose of media content they consume is too big and comes out too fast. The average human brain isn't made for this. Ban intentional misinformation and to hell with the idea that it's protected speech.\n",
      "Nurses are at the forefront of vaccine hesitancy and misinformation.  They are undoing the work of doctors and scientists everywhere!  Let’s do our part and force these anti Vaxx nurses from their professions.  America needs stop defending nurses!  An unvaccinated nurse is not essential!\n",
      "Any studies on vaccine safety for teenagers? My mother doesn't want my little sister to get the vaccine..\n",
      "The worst misinformation is what you don’t even realize is misinformation. Some people will believe anything and you can’t do anything about that. But you can tell what’s what most of the time if you think critically. \n",
      "\n",
      "Be careful about your own beliefs and where they come from because there are actors out there that will take advantage of your own confirmation bias, even ones you think you can trust. Think for yourself and be skeptical of everything. No one has your best interest at heart more than yourself.   \n",
      "\n",
      "Things are not always what they seem.\n",
      "How is the WHO on that list? A lot of the WHO information on COVID was not supported by science, was in direct contradiction to the CDC, and was found to be incorrect: \n",
      "\n",
      "They initially claimed there was no outbreak and argued against border closures.\n",
      "\n",
      "They argued against masks until June 2020. \n",
      "\n",
      "They refuted that COVID is spread through the air (aerosols) until April 2021.\n",
      "Does anyone have good resources about COVID (and especially about the vaccines) in French?? My stepkids' dad (we're in Quebec I'm the only English speaker in the family) is feeding them \"it's not a real vaccine\" and I don't know good French-language resources to counter this. Aidez-moi SVP!!\n",
      "My mom sent me a screen shot of some qanon weirdos blog with information from Vaers, saying that the vaccine causes this or that. Luckily she sends this shit to me when she comes across it instead of just believing it, and asks if it's true. 9 times out of 10, it's not. Thank you for this post, it helped me show her that it's not a reliable source of information. I went to the website of the screen shot she sent, and it was wild with conspiracy about 5g and all sorts of shit. Lol\n",
      "VAERS as it exists today is a monumental problem. It gives the facade of a legitimate data source that conclusions can be drawn from, these conclusions make their way into preprints and are often picked up by lazy reporters with major news organizations and then the conclusion, drawn from garbage data, are launched into the wild. It takes 2 minutes to track down the source of a ton of these suspect news pieces back to VAERS data but 1) no one does this 2) its already too late and 3) Once someone gets as far as an official looking data source they stop looking.\n",
      "[removed]\n",
      "Thank you for the links! Helping get some close friends vacinated\n",
      "What if someone asks for your covid vaccine card picture?\n",
      "Anyone who spouts misinformation is basically killing people in my opinion\n",
      "When will this all be over it’s all I want to know? I’m to the point where if it’s never gonna be over let’s just go back to normal and roll the dice.\n",
      "The CDC and other authorities need to come out with targeted information/ads/marketing at young women that the vaccine is safe and does not affect fertility or pregnancy.\n",
      "\n",
      "I've met a lot of young women who are in healthcare and teaching, and many of them are not vaccinated and planning to not get vaccinated because they're concerned it will either affect their fertility long-term or their current pregnancies.\n",
      "\n",
      "This is a huge group, especially if you consider how many people they come into contact with. Especially the teachers.\n",
      "\n",
      "Vaccine mandates are taking too long to enact.\n",
      "« I fucking love science! »\n",
      "Approved Twitter and blogs ??\n",
      "\n",
      "What a good source of information is will already be a source of contention\n",
      "[removed]\n",
      "Only bold statements allowed here\n",
      "[removed]\n",
      "[removed]\n",
      "Consider adding [European Centre for Disease Prevention and Control](https://www.ecdc.europa.eu/en/covid-19) to the list of agencies. For science blogs, you could also consider [Absolutely Maybe](https://absolutelymaybe.plos.org/) by Hilda Bastian, which is generally focused on evidence-based medicine, and these days almost exclusively on COVID-19.\n",
      "Thank you for all of the information, it's much appreciated.\n",
      "[removed]\n",
      "Thank you providing these extremely helpful links! I didn't realize this was here otherwise I would've came here first, but I commented on some other thread with concerns because my family and my wife are just scared of everything, and they are vaccine hesitant so I'm just trying to address their concerns. I was met with a lot of negativity and hateful comments, so I'm glad to see there are people actually trying to help!\n",
      "What should be done , is that the banner information on Covid should point towards each country secure information on COVID depending on the user country rather that only the US CDC.\n",
      "[removed]\n",
      "And disinformation is pure evil.\n",
      "Yes\n",
      "[deleted]\n",
      "Very pleased to see Dr. Ghandi on that list, she’s been a very reasonable steady head in this\n",
      "Can anyone link me to a resource that explains the Israel data?\n",
      "\n",
      "I have a friend who is *convinced* that being vaccinated makes things WORSE, and that the \"Israel data proves it\".\n",
      "I work at a hospital in California and are being offered the booster soon since we were vaccinated in December. Majority of us got the Pfizer, does the booster do anything against the Delta? What are the exact benefits from this booster? I am so confused by all the information/misinformation\n",
      "In Spanish?\n",
      "Rather disappointed that the list does not include the uk Office of National Statisics. They publish quite a bit on covid and I'd regard that as more reliable than the Lancet. [https://www.ons.gov.uk/peoplepopulationandcommunity/healthandsocialcare/conditionsanddiseases/publications?filter=article&filter=compendia](https://www.ons.gov.uk/peoplepopulationandcommunity/healthandsocialcare/conditionsanddiseases/publications?filter=article&filter=compendia)\n",
      "\n",
      "They are generally considered in the uk to be about as unbiased as you can get. Where there are limitations to their analysis these are likely to be described in the text or accompanying notes. \n",
      "\n",
      "The Financial Times are also mostly good. see e.g https://ig.ft.com/coronavirus-chart/?areas=eur&areas=usa&areas=bra&areas=gbr&areas=cze&areas=hun&areasRegional=usny&areasRegional=usnj&areasRegional=usaz&areasRegional=usca&areasRegional=usnd&areasRegional=ussd&cumulative=0&logScale=0&per100K=1&startDate=2020-09-01&values=deaths\n",
      "\n",
      "In the uk we have a free at point of use health care system. As our doctors do not have a financial incentive to do work we trust their advice more than countries where doctors may have a financial incentive to do work. \n",
      "\n",
      "On twitter we have a number of useful people but the only one I can find quickly is [https://twitter.com/jburnmurdoch/status/1429878189011111936?lang=en](https://twitter.com/jburnmurdoch/status/1429878189011111936?lang=en)\n",
      "\n",
      "While there are differences that are important in international comparisons commentators from outside your bubble can be useful too.\n",
      "[removed]\n",
      "[removed]\n",
      "Point of reference for when people say, \"yeah, but the polio vaccine is okay because polio is really bad, but covid has a really low death rate.\"\n",
      "\n",
      "POLIO: Total polio deaths in the US from 1940-1944 = 4728\n",
      "source: https://www.ncbi.nlm.nih.gov/pmc/articles/PMC1976149/pdf/pubhealthreporig02830-0001.pdf\n",
      "\n",
      "The population of the US in 1940 = 132,164,569\n",
      "Polio deaths per year, per 100,000 population = 0.715 people\n",
      "\n",
      "\n",
      "COVID19: 650,000 deaths so far, since March 2020 (1.5 years)\n",
      "population of the US = 330,000,000\n",
      "Deaths per year, per 100,000 population = 131 people\n",
      "\n",
      "Covid19 is killing Americans at a rate 183x higher than polio was before there was a polio vaccine.\n",
      "[removed]\n",
      "What are criteria to evaluate if an information is GOOD or BAD?\n",
      "My wife and I have been vaccinated, she is a school teacher one of the other unvaccinated teachers brought covid to a meeting gave it to a vaccinated teacher who gave it to my wife and she gave it to me. Didn't effect me at all made my sick as hell ,threw up for 2 days was sick for about a week ,one night I had to put her on a cpap, to help her breathe . So you can carry it and you can get sick, don't know if you can get it again after being sick. So that will be the question now.\n",
      "[removed]\n",
      "[removed]\n",
      "Is this the right place to post anti-conspiracy theories? Such as: [https://www.youtube.com/watch?v=kcqbbGEEQw4](https://www.youtube.com/watch?v=kcqbbGEEQw4)\n",
      "\n",
      "I think this guy is very good at explaining *why* things are wrong (backed up with links). He should have way more views.\n",
      "a lot of my friends are spreading misinformation about the vaccines, i try to convince them but it seems like its impossible to find raw statistics about vaccination rates, covid breakthrough cases, complications and deaths. can someone help out? like just cold hard data, why is it so hard to find?\n"
     ]
    },
    {
     "ename": "AttributeError",
     "evalue": "'MoreComments' object has no attribute 'body'",
     "output_type": "error",
     "traceback": [
      "\u001b[1;31m---------------------------------------------------------------------------\u001b[0m",
      "\u001b[1;31mAttributeError\u001b[0m                            Traceback (most recent call last)",
      "\u001b[1;32m<ipython-input-6-231fcc697ebf>\u001b[0m in \u001b[0;36m<module>\u001b[1;34m\u001b[0m\n\u001b[1;32m----> 1\u001b[1;33m \u001b[0minspect_raw_posts\u001b[0m\u001b[1;33m(\u001b[0m\u001b[0mraw_posts\u001b[0m\u001b[1;33m)\u001b[0m\u001b[1;33m\u001b[0m\u001b[1;33m\u001b[0m\u001b[0m\n\u001b[0m",
      "\u001b[1;32m<ipython-input-5-bab2c4693b8c>\u001b[0m in \u001b[0;36minspect_raw_posts\u001b[1;34m(raw_posts)\u001b[0m\n\u001b[0;32m      1\u001b[0m \u001b[1;32mdef\u001b[0m \u001b[0minspect_raw_posts\u001b[0m\u001b[1;33m(\u001b[0m\u001b[0mraw_posts\u001b[0m\u001b[1;33m)\u001b[0m\u001b[1;33m:\u001b[0m\u001b[1;33m\u001b[0m\u001b[1;33m\u001b[0m\u001b[0m\n\u001b[0;32m      2\u001b[0m     \u001b[1;32mfor\u001b[0m \u001b[0mtop_level_comment\u001b[0m \u001b[1;32min\u001b[0m \u001b[0mraw_posts\u001b[0m\u001b[1;33m.\u001b[0m\u001b[0mcomments\u001b[0m\u001b[1;33m:\u001b[0m\u001b[1;33m\u001b[0m\u001b[1;33m\u001b[0m\u001b[0m\n\u001b[1;32m----> 3\u001b[1;33m         \u001b[0mprint\u001b[0m\u001b[1;33m(\u001b[0m\u001b[0mtop_level_comment\u001b[0m\u001b[1;33m.\u001b[0m\u001b[0mbody\u001b[0m\u001b[1;33m)\u001b[0m\u001b[1;33m\u001b[0m\u001b[1;33m\u001b[0m\u001b[0m\n\u001b[0m",
      "\u001b[1;31mAttributeError\u001b[0m: 'MoreComments' object has no attribute 'body'"
     ]
    }
   ],
   "source": [
    "inspect_raw_posts(raw_posts)"
   ]
  },
  {
   "cell_type": "markdown",
   "id": "36e1345e",
   "metadata": {},
   "source": [
    "## Clean Text"
   ]
  },
  {
   "cell_type": "code",
   "execution_count": 7,
   "id": "8ad5adba",
   "metadata": {},
   "outputs": [],
   "source": [
    "def remove_links(post):\n",
    "    post = re.sub(\"http\\S*\\s\", \"\", post)\n",
    "    return post"
   ]
  },
  {
   "cell_type": "code",
   "execution_count": 8,
   "id": "9d0956ba",
   "metadata": {},
   "outputs": [],
   "source": [
    "def lemmatize(post):\n",
    "    lemmatizer = WordNetLemmatizer()\n",
    "    lemmatized_post = lemmatizer.lemmatize(post) \n",
    "    return lemmatized_post"
   ]
  },
  {
   "cell_type": "code",
   "execution_count": 9,
   "id": "7ad5a5dc",
   "metadata": {},
   "outputs": [],
   "source": [
    "def remove_punctuation(post):\n",
    "    table = str.maketrans('', '', string.punctuation) \n",
    "    post = [w.translate(table) for w in post] \n",
    "    return post"
   ]
  },
  {
   "cell_type": "code",
   "execution_count": 10,
   "id": "a59916f4",
   "metadata": {},
   "outputs": [],
   "source": [
    "def remove_stopwords(post):\n",
    "    stop_words = nltk.corpus.stopwords.words('english')\n",
    "    new_stopwords = [\"would\" , \"etc\" , \"url\" , \"https\" , \"jpeg\"] \n",
    "    stop_words.extend(new_stopwords) \n",
    "    post = [w for w in post if not w in stop_words] \n",
    "    \n",
    "    return post\n",
    "  "
   ]
  },
  {
   "cell_type": "code",
   "execution_count": 11,
   "id": "de95a752",
   "metadata": {},
   "outputs": [],
   "source": [
    "def remove_digits(post):\n",
    "    post = [w for w in post if w.isalpha()]\n",
    "    return post"
   ]
  },
  {
   "cell_type": "code",
   "execution_count": 12,
   "id": "5fd949eb",
   "metadata": {},
   "outputs": [],
   "source": [
    "def clean_text(post):\n",
    "   \n",
    "    post = post.lower()\n",
    "    post = remove_links(post)\n",
    "    post = lemmatize(post)\n",
    "    post = word_tokenize(post) \n",
    "    post = remove_punctuation(post)\n",
    "    post = remove_stopwords(post)\n",
    "    post = remove_digits(post)\n",
    "  \n",
    "    return post\n",
    "    \n"
   ]
  },
  {
   "cell_type": "markdown",
   "id": "75c1e817",
   "metadata": {},
   "source": [
    "## Apply text cleaning"
   ]
  },
  {
   "cell_type": "code",
   "execution_count": 13,
   "id": "a44e84fa",
   "metadata": {
    "scrolled": true
   },
   "outputs": [],
   "source": [
    "def apply_text_cleaning(raw_posts):\n",
    "    cleaned_posts = []\n",
    "    for top_level_comment in raw_posts.comments[1:]:\n",
    "\n",
    "        if isinstance(top_level_comment, MoreComments):\n",
    "            continue #remove second level comments\n",
    "\n",
    "        raw_post = top_level_comment.body\n",
    "        cleaned_post = clean_text(raw_post)\n",
    "\n",
    "        if cleaned_post in [\"removed\" , \"deleted\"]: #remove deleted comments\n",
    "            continue\n",
    "\n",
    "        cleaned_posts.append(cleaned_post)\n",
    "        \n",
    "    return cleaned_posts"
   ]
  },
  {
   "cell_type": "code",
   "execution_count": 14,
   "id": "73ac9d28",
   "metadata": {},
   "outputs": [],
   "source": [
    "cleaned_posts = apply_text_cleaning(raw_posts) "
   ]
  },
  {
   "cell_type": "markdown",
   "id": "f78f5b06",
   "metadata": {},
   "source": [
    "## Check results of text cleaning"
   ]
  },
  {
   "cell_type": "code",
   "execution_count": 15,
   "id": "7dbc3453",
   "metadata": {},
   "outputs": [],
   "source": [
    "def inspect_cleaned_posts(cleaned_posts):\n",
    "    for post in cleaned_posts:\n",
    "        print(post ,\"\\n\" )"
   ]
  },
  {
   "cell_type": "code",
   "execution_count": 16,
   "id": "2d2f6aa9",
   "metadata": {},
   "outputs": [
    {
     "name": "stdout",
     "output_type": "stream",
     "text": [
      "['read', 'covid', 'misinformation', 'completely', 'contrary', 'overwhelming', 'consensus', 'medical', 'community', 'reminded', 'weird', 'shows', 'come', 'late', 'night', 'cable', 'tv', 'kid', 'cheaply', 'produced', 'shows', 'structured', 'documentary', 'convince', 'people', 'actually', 'aliens', 'popping', 'ocean', 'daily', 'blurred', 'footage', 'ominous', 'talk', 'tracks', 'tell', 'monk', 'chinaindiawherever', 'could', 'stop', 'heart', 'restart', 'thinking', 'could', 'overcome', 'heatfreezing', 'cold', 'controlling', 'body', 'could', 'levitate', 'meditation', 'entertaining', 'watch', 'sure', 'without', 'even', 'bare', 'minimum', 'factchecking', 'stories', 'kid', 'could', 'even', 'mildly', 'convincing', 'felt', 'like', 'could', 'whole', 'reality', 'status', 'quo', 'completely', 'wrong', 'magic', 'might', 'real', 'happened', 'stumble', 'upon', 'tuesday', 'night', 'home', 'sick', 'school', 'even', 'kid', 'stake', 'life', 'truereal', 'light', 'firelock', 'freezerjump', 'building', 'absolutely', 'fucking', 'people', 'lighting', 'fire', 'bc', 'read', 'convincing', 'enough', 'narrative', 'internet'] \n",
      "\n",
      "['much', 'misinformation', 'gets', 'spread', 'stems', 'online', 'sources', 'like', 'facebook', 'twitter', 'usually', 'root', 'data', 'produced', 'misinformation', 'stems', 'website', 'cool', 'tips', 'help', 'know', 'probably', 'real', 'probably', 'surfin', 'world', 'wide', 'web', 'post', 'updated', 'live', 'github', 'well', 'factcheckorg', 'friend', 'factcheckorg', 'unbiased', 'knowledge', 'place', 'check', 'facts', 'even', 'cover', 'viral', 'tweets', 'instagram', 'posts', 'like', 'one', 'amazing', 'resource', 'helping', 'combat', 'misinformation', 'check', 'might', 'known', 'fake', 'news', 'well', 'known', 'repository', 'websites', 'marked', 'known', 'fake', 'news', 'find', 'bit', 'stale', 'months', 'old', 'good', 'first', 'step', 'wikipedia', 'also', 'maintains', 'separate', 'list', 'reading', 'given', 'one', 'lists', 'highly', 'likely', 'reading', 'misinformation', 'always', 'find', 'source', 'received', 'facebook', 'post', 'relative', 'quote', 'seems', 'highly', 'suspicious', 'come', 'looks', 'like', 'came', 'website', 'search', 'exact', 'phrase', 'suspicious', 'sentence', 'phrase', 'google', 'like', 'vaccines', 'microchips', 'notice', 'quotation', 'marks', 'tells', 'google', 'want', 'perform', 'exact', 'match', 'search', 'google', 'show', 'websites', 'contain', 'exact', 'phrase', 'page', 'google', 'supports', 'wide', 'variety', 'search', 'operators', 'help', 'find', 'information', 'learn', 'often', 'provide', 'search', 'results', 'one', 'many', 'news', 'sources', 'quote', 'sourced', 'interested', 'finding', 'true', 'source', 'article', 'try', 'using', 'operator', 'google', 'search', 'use', 'google', 'trends', 'narrow', 'results', 'twitter', 'sleuthing', 'significant', 'amount', 'misinformation', 'comes', 'twitter', 'twitter', 'harder', 'navigate', 'google', 'given', 'absolutely', 'insane', 'amount', 'data', 'process', 'impossible', 'first', 'see', 'twitter', 'account', 'user', 'posted', 'article', 'created', 'next', 'try', 'look', 'user', 'early', 'posts', 'might', 'give', 'insight', 'connections', 'motivations', 'use', 'twitter', 'advanced', 'search', 'help', 'learn', 'owns', 'domain', 'source', 'coming', 'website', 'might', 'able', 'find', 'owns', 'conducting', 'whois', 'domain', 'savvier', 'web', 'administrators', 'use', 'hosting', 'provider', 'privacy', 'protection', 'feature', 'mask', 'ownership', 'help', 'identify', 'behind', 'icann', 'internet', 'corporation', 'assigned', 'names', 'numbers', 'maintains', 'online', 'whois', 'tool', 'purpose', 'find', 'check', 'page', 'regardless', 'whether', 'website', 'domain', 'ownership', 'private', 'website', 'looking', 'probably', 'costs', 'money', 'host', 'importantly', 'generating', 'enough', 'content', 'maintain', 'sizable', 'social', 'media', 'following', 'costs', 'money', 'know', 'money', 'come', 'somewhere', 'like', 'check', 'us', 'page', 'site', 'looking', 'usually', 'give', 'list', 'people', 'behind', 'site', 'bigger', 'publications', 'board', 'directors', 'oversees', 'operations', 'time', 'good', 'place', 'play', 'follow', 'money', 'run', 'participate', 'large', 'nonprofits', 'think', 'tanks', 'divert', 'significant', 'resources', 'specific', 'agenda', 'ideology', 'related', 'connected', 'politicians', 'business', 'interests', 'patterns', 'sometimes', 'answered', 'playing', 'follow', 'money', 'analytics', 'going', 'highlytrafficked', 'websites', 'use', 'google', 'analytics', 'collect', 'information', 'user', 'engagement', 'trends', 'like', 'pages', 'people', 'looking', 'elements', 'page', 'clicked', 'often', 'information', 'collected', 'way', 'javascript', 'function', 'executes', 'clientside', 'computer', 'google', 'analytics', 'ga', 'uses', 'globallyunique', 'id', 'correlate', 'website', 'data', 'belongs', 'website', 'script', 'executes', 'clientside', 'ga', 'id', 'must', 'embedded', 'onto', 'webpage', 'websites', 'embed', 'ga', 'source', 'code', 'page', 'see', 'go', 'dnslytics', 'plug', 'domain', 'might', 'find', 'domains', 'created', 'web', 'administrator', 'could', 'produce', 'interesting', 'results', 'note', 'bigger', 'websites', 'like', 'reddit', 'run', 'clickfarms', 'analytics', 'data', 'warehouses', 'method', 'work', 'websites', 'use', 'critical', 'thinking', 'biggest', 'defense', 'manipulated', 'fake', 'news', 'technical', 'use', 'brain', 'actively', 'seek', 'dissenting', 'opinions', 'make', 'conclusions', 'realize', 'time', 'full', 'workup', 'single', 'news', 'article', 'however', 'glean', 'lot', 'information', 'side', 'saying', 'sorting', 'controversal', 'reddit', 'time', 'links', 'posters', 'provide', 'enough', 'get', 'degree', 'view', 'specific', 'issue', 'enough', 'form', 'opinion', 'find', 'unwilling', 'want', 'hear', 'side', 'saying', 'might', 'process', 'manipulated', 'let', 'emotions', 'blind', 'facts', 'thinking', 'wow', 'lot', 'time', 'get', 'truth', 'right', 'lot', 'time', 'unfortunately', 'given', 'quickly', 'information', 'spreads', 'internet', 'days', 'took', 'reach', 'twitter', 'edge', 'network', 'houston', 'california', 'light', 'way', 'faster', 'quantity', 'information', 'finite', 'amount', 'time', 'easy', 'let', 'headlines', 'drive', 'decision', 'making', 'really', 'want', 'know', 'stand', 'something', 'make', 'time', 'real', 'world', 'example', 'coming', 'soon'] \n",
      "\n",
      "['gives', 'outlet', 'going', 'vent', 'thank', 'indulge', 'choose', 'get', 'vaccine', 'selfish', 'period', 'care', 'affect', 'care', 'quite', 'potentially', 'reason', 'virus', 'controlled', 'since', 'many', 'hosts', 'available', 'mutate', 'continue', 'one', 'true', 'path', 'thrive', 'exist', 'done', 'patience', 'anyone', 'questioned', 'efficacy', 'vaccines', 'developed', 'quickly', 'order', 'save', 'lives', 'vaccines', 'available', 'almost', 'year', 'vaccine', 'proving', 'strongest', 'layer', 'preventing', 'spread', 'virus', 'masks', 'year', 'studies', 'showing', 'used', 'properly', 'consistently', 'worn', 'greatly', 'reduce', 'spread', 'virus', 'choose', 'entirely', 'nonscience', 'based', 'reasons', 'flout', 'basic', 'means', 'stopping', 'virus', 'good', 'person', 'selfish', 'stupid', 'entitled', 'medical', 'treatment', 'done', 'teach', 'part', 'get', 'variant', 'spread', 'others', 'despite', 'part', 'completely', 'totally', 'guys', 'wo', 'nt', 'take', 'responsibility', 'keeping', 'community', 'safe', 'argue', 'must'] \n",
      "\n",
      "['easy', 'say', 'good', 'information', 'good', 'bad', 'information', 'bad', 'practice', 'doesnt', 'mean', 'much', 'permanently', 'banned', 'vaxxhappened', 'posting', 'link', 'science', 'magazine', 'one', 'approved', 'good', 'information', 'good', 'sources', 'page', 'date', 'figures', 'vaccine', 'efficacy', 'delta', 'shared', 'petition', 'thats', 'reality', 'happen', 'power', 'mod', 'charge', 'hundreds', 'subs', 'poor', 'grasp', 'information', 'ban', 'people', 'ahe', 'perceives', 'different', 'side'] \n",
      "\n",
      "['saying', 'claim', 'unvaccinated', 'sperm', 'worth', 'women', 'false'] \n",
      "\n",
      "['imagine', 'reading', 'headline', 'years', 'ago'] \n",
      "\n",
      "['remember', 'saying', 'wear', 'mask', 'considered', 'misinformation', 'pepperidge', 'farms', 'remembers'] \n",
      "\n",
      "['ah', 'yes', 'floor', 'made', 'floor'] \n",
      "\n",
      "['lot', 'talk', 'information', 'bad', 'good', 'hard', 'though', 'emergency', 'rooms', 'overflowing', 'nurses', 'doctors', 'shouting', 'top', 'lungs', 'reporters', 'twitter', 'anyone', 'listen', 'yeah', 'believe', 'doctors', 'nurses', 'good', 'way', 'find', 'whether', 'information', 'good', 'seek', 'information', 'disagrees', 'evaluate', 'points', 'view', 'use', 'questions', 'find', 'keywords', 'used', 'search', 'engines', 'enter', 'question', 'search', 'bar', 'defeats', 'search', 'engine', 'algorithms', 'takes', 'time', 'considering', 'lifeanddeath', 'questions', 'time', 'worth', 'taking', 'imo', 'one', 'thing', 'hearing', 'lot', 'people', 'hostile', 'points', 'view', 'true', 'number', 'public', 'health', 'administrators', 'quit', 'death', 'threats', 'kind', 'astonishing', 'people', 'nt', 'want', 'hear', 'saying', 'threatened', 'kids', 'families', 'going', 'since', 'beginning'] \n",
      "\n",
      "['need', 'stop', 'expecting', 'average', 'person', 'able', 'correctly', 'identify', 'misinformation', 'decide', 'disregard', 'daily', 'firehose', 'media', 'content', 'consume', 'big', 'comes', 'fast', 'average', 'human', 'brain', 'nt', 'made', 'ban', 'intentional', 'misinformation', 'hell', 'idea', 'protected', 'speech'] \n",
      "\n",
      "['nurses', 'forefront', 'vaccine', 'hesitancy', 'misinformation', 'undoing', 'work', 'doctors', 'scientists', 'everywhere', 'let', 'part', 'force', 'anti', 'vaxx', 'nurses', 'professions', 'america', 'needs', 'stop', 'defending', 'nurses', 'unvaccinated', 'nurse', 'essential'] \n",
      "\n",
      "['studies', 'vaccine', 'safety', 'teenagers', 'mother', 'nt', 'want', 'little', 'sister', 'get', 'vaccine'] \n",
      "\n",
      "['worst', 'misinformation', 'even', 'realize', 'misinformation', 'people', 'believe', 'anything', 'anything', 'tell', 'time', 'think', 'critically', 'careful', 'beliefs', 'come', 'actors', 'take', 'advantage', 'confirmation', 'bias', 'even', 'ones', 'think', 'trust', 'think', 'skeptical', 'everything', 'one', 'best', 'interest', 'heart', 'things', 'always', 'seem'] \n",
      "\n",
      "['list', 'lot', 'information', 'covid', 'supported', 'science', 'direct', 'contradiction', 'cdc', 'found', 'incorrect', 'initially', 'claimed', 'outbreak', 'argued', 'border', 'closures', 'argued', 'masks', 'june', 'refuted', 'covid', 'spread', 'air', 'aerosols', 'april'] \n",
      "\n",
      "['anyone', 'good', 'resources', 'covid', 'especially', 'vaccines', 'french', 'stepkids', 'dad', 'quebec', 'english', 'speaker', 'family', 'feeding', 'real', 'vaccine', 'nt', 'know', 'good', 'frenchlanguage', 'resources', 'counter', 'aidezmoi', 'svp'] \n",
      "\n",
      "['mom', 'sent', 'screen', 'shot', 'qanon', 'weirdos', 'blog', 'information', 'vaers', 'saying', 'vaccine', 'causes', 'luckily', 'sends', 'shit', 'comes', 'across', 'instead', 'believing', 'asks', 'true', 'times', 'thank', 'post', 'helped', 'show', 'reliable', 'source', 'information', 'went', 'website', 'screen', 'shot', 'sent', 'wild', 'conspiracy', 'sorts', 'shit', 'lol'] \n",
      "\n",
      "['vaers', 'exists', 'today', 'monumental', 'problem', 'gives', 'facade', 'legitimate', 'data', 'source', 'conclusions', 'drawn', 'conclusions', 'make', 'way', 'preprints', 'often', 'picked', 'lazy', 'reporters', 'major', 'news', 'organizations', 'conclusion', 'drawn', 'garbage', 'data', 'launched', 'wild', 'takes', 'minutes', 'track', 'source', 'ton', 'suspect', 'news', 'pieces', 'back', 'vaers', 'data', 'one', 'already', 'late', 'someone', 'gets', 'far', 'official', 'looking', 'data', 'source', 'stop', 'looking'] \n",
      "\n",
      "['removed'] \n",
      "\n",
      "['thank', 'links', 'helping', 'get', 'close', 'friends', 'vacinated'] \n",
      "\n",
      "['someone', 'asks', 'covid', 'vaccine', 'card', 'picture'] \n",
      "\n",
      "['anyone', 'spouts', 'misinformation', 'basically', 'killing', 'people', 'opinion'] \n",
      "\n",
      "['want', 'know', 'point', 'never', 'gon', 'na', 'let', 'go', 'back', 'normal', 'roll', 'dice'] \n",
      "\n",
      "['cdc', 'authorities', 'need', 'come', 'targeted', 'informationadsmarketing', 'young', 'women', 'vaccine', 'safe', 'affect', 'fertility', 'pregnancy', 'met', 'lot', 'young', 'women', 'healthcare', 'teaching', 'many', 'vaccinated', 'planning', 'get', 'vaccinated', 'concerned', 'either', 'affect', 'fertility', 'longterm', 'current', 'pregnancies', 'huge', 'group', 'especially', 'consider', 'many', 'people', 'come', 'contact', 'especially', 'teachers', 'vaccine', 'mandates', 'taking', 'long', 'enact'] \n",
      "\n",
      "['fucking', 'love', 'science'] \n",
      "\n",
      "['approved', 'twitter', 'blogs', 'good', 'source', 'information', 'already', 'source', 'contention'] \n",
      "\n",
      "['removed'] \n",
      "\n",
      "['bold', 'statements', 'allowed'] \n",
      "\n",
      "['removed'] \n",
      "\n",
      "['removed'] \n",
      "\n",
      "['consider', 'adding', 'european', 'centre', 'disease', 'prevention', 'control', 'list', 'agencies', 'science', 'blogs', 'could', 'also', 'consider', 'absolutely', 'maybe', 'hilda', 'bastian', 'generally', 'focused', 'evidencebased', 'medicine', 'days', 'almost', 'exclusively'] \n",
      "\n",
      "['thank', 'information', 'much', 'appreciated'] \n",
      "\n",
      "['removed'] \n",
      "\n",
      "['thank', 'providing', 'extremely', 'helpful', 'links', 'nt', 'realize', 'otherwise', 'came', 'first', 'commented', 'thread', 'concerns', 'family', 'wife', 'scared', 'everything', 'vaccine', 'hesitant', 'trying', 'address', 'concerns', 'met', 'lot', 'negativity', 'hateful', 'comments', 'glad', 'see', 'people', 'actually', 'trying', 'help'] \n",
      "\n",
      "['done', 'banner', 'information', 'covid', 'point', 'towards', 'country', 'secure', 'information', 'covid', 'depending', 'user', 'country', 'rather', 'us', 'cdc'] \n",
      "\n",
      "['removed'] \n",
      "\n",
      "['disinformation', 'pure', 'evil'] \n",
      "\n",
      "['yes'] \n",
      "\n",
      "['deleted'] \n",
      "\n",
      "['pleased', 'see', 'dr', 'ghandi', 'list', 'reasonable', 'steady', 'head'] \n",
      "\n",
      "['anyone', 'link', 'resource', 'explains', 'israel', 'data', 'friend', 'convinced', 'vaccinated', 'makes', 'things', 'worse', 'israel', 'data', 'proves'] \n",
      "\n",
      "['work', 'hospital', 'california', 'offered', 'booster', 'soon', 'since', 'vaccinated', 'december', 'majority', 'us', 'got', 'pfizer', 'booster', 'anything', 'delta', 'exact', 'benefits', 'booster', 'confused', 'informationmisinformation'] \n",
      "\n",
      "['spanish'] \n",
      "\n",
      "['rather', 'disappointed', 'list', 'include', 'uk', 'office', 'national', 'statisics', 'publish', 'quite', 'bit', 'covid', 'regard', 'reliable', 'lancet', 'generally', 'considered', 'uk', 'unbiased', 'get', 'limitations', 'analysis', 'likely', 'described', 'text', 'accompanying', 'notes', 'financial', 'times', 'also', 'mostly', 'good', 'see', 'eg', 'uk', 'free', 'point', 'use', 'health', 'care', 'system', 'doctors', 'financial', 'incentive', 'work', 'trust', 'advice', 'countries', 'doctors', 'may', 'financial', 'incentive', 'work', 'twitter', 'number', 'useful', 'people', 'one', 'find', 'quickly', 'differences', 'important', 'international', 'comparisons', 'commentators', 'outside', 'bubble', 'useful'] \n",
      "\n",
      "['removed'] \n",
      "\n",
      "['removed'] \n",
      "\n",
      "['point', 'reference', 'people', 'say', 'yeah', 'polio', 'vaccine', 'okay', 'polio', 'really', 'bad', 'covid', 'really', 'low', 'death', 'rate', 'polio', 'total', 'polio', 'deaths', 'us', 'source', 'population', 'us', 'polio', 'deaths', 'per', 'year', 'per', 'population', 'people', 'deaths', 'far', 'since', 'march', 'years', 'population', 'us', 'deaths', 'per', 'year', 'per', 'population', 'people', 'killing', 'americans', 'rate', 'higher', 'polio', 'polio', 'vaccine'] \n",
      "\n",
      "['removed'] \n",
      "\n",
      "['criteria', 'evaluate', 'information', 'good', 'bad'] \n",
      "\n",
      "['wife', 'vaccinated', 'school', 'teacher', 'one', 'unvaccinated', 'teachers', 'brought', 'covid', 'meeting', 'gave', 'vaccinated', 'teacher', 'gave', 'wife', 'gave', 'nt', 'effect', 'made', 'sick', 'hell', 'threw', 'days', 'sick', 'week', 'one', 'night', 'put', 'cpap', 'help', 'breathe', 'carry', 'get', 'sick', 'nt', 'know', 'get', 'sick', 'question'] \n",
      "\n",
      "['removed'] \n",
      "\n",
      "['removed'] \n",
      "\n",
      "['right', 'place', 'post', 'anticonspiracy', 'theories', 'think', 'guy', 'good', 'explaining', 'things', 'wrong', 'backed', 'links', 'way', 'views'] \n",
      "\n",
      "['lot', 'friends', 'spreading', 'misinformation', 'vaccines', 'try', 'convince', 'seems', 'like', 'impossible', 'find', 'raw', 'statistics', 'vaccination', 'rates', 'covid', 'breakthrough', 'cases', 'complications', 'deaths', 'someone', 'help', 'like', 'cold', 'hard', 'data', 'hard', 'find'] \n",
      "\n"
     ]
    }
   ],
   "source": [
    "inspect_cleaned_posts(cleaned_posts)"
   ]
  },
  {
   "cell_type": "markdown",
   "id": "8297fe66",
   "metadata": {},
   "source": [
    "## Prepare tokens for analysing"
   ]
  },
  {
   "cell_type": "code",
   "execution_count": 17,
   "id": "753e8199",
   "metadata": {},
   "outputs": [],
   "source": [
    "def transform_posts(cleaned_posts):\n",
    "    transformed_posts = []\n",
    "    for post in cleaned_posts:\n",
    "        transformed_posts.extend(post)\n",
    "    transformed_posts = Text(transformed_posts)\n",
    "    return transformed_posts"
   ]
  },
  {
   "cell_type": "code",
   "execution_count": 18,
   "id": "3dff05cd",
   "metadata": {},
   "outputs": [],
   "source": [
    "transformed_posts = transform_posts(cleaned_posts) "
   ]
  },
  {
   "cell_type": "markdown",
   "id": "244b688e",
   "metadata": {},
   "source": [
    "### Lexical dispertion"
   ]
  },
  {
   "cell_type": "code",
   "execution_count": 19,
   "id": "051c69f7",
   "metadata": {},
   "outputs": [
    {
     "data": {
      "image/png": "[encoded data removed]",
      "text/plain": [
       "<Figure size 432x288 with 1 Axes>"
      ]
     },
     "metadata": {
      "needs_background": "light"
     },
     "output_type": "display_data"
    }
   ],
   "source": [
    "targets=[\"misinformation\" , \"information\", \"vaccination\", \"vaccine\" , \"virus\" , \"bias\"]\n",
    "dispersion_plot(transformed_posts, targets, title='Lexical Dispersion Plot')"
   ]
  },
  {
   "cell_type": "markdown",
   "id": "3859ea01",
   "metadata": {},
   "source": [
    "### Frequency distribution"
   ]
  },
  {
   "cell_type": "code",
   "execution_count": 20,
   "id": "d1242303",
   "metadata": {},
   "outputs": [
    {
     "data": {
      "text/plain": [
       "[('information', 21),\n",
       " ('good', 16),\n",
       " ('people', 15),\n",
       " ('misinformation', 14),\n",
       " ('vaccine', 14),\n",
       " ('find', 12),\n",
       " ('covid', 11),\n",
       " ('data', 11),\n",
       " ('one', 11),\n",
       " ('source', 11),\n",
       " ('removed', 11),\n",
       " ('like', 10),\n",
       " ('twitter', 10),\n",
       " ('time', 10),\n",
       " ('get', 10),\n",
       " ('search', 9),\n",
       " ('google', 9),\n",
       " ('lot', 9),\n",
       " ('website', 8),\n",
       " ('use', 8)]"
      ]
     },
     "execution_count": 20,
     "metadata": {},
     "output_type": "execute_result"
    }
   ],
   "source": [
    "\n",
    "frequency_distribution = FreqDist(transformed_posts)\n",
    "frequency_distribution.most_common(20)"
   ]
  },
  {
   "cell_type": "code",
   "execution_count": 21,
   "id": "65b7394e",
   "metadata": {},
   "outputs": [
    {
     "data": {
      "image/png": "[encoded data removed]",
      "text/plain": [
       "<Figure size 432x288 with 1 Axes>"
      ]
     },
     "metadata": {
      "needs_background": "light"
     },
     "output_type": "display_data"
    },
    {
     "data": {
      "text/plain": [
       "<AxesSubplot:xlabel='Samples', ylabel='Counts'>"
      ]
     },
     "execution_count": 21,
     "metadata": {},
     "output_type": "execute_result"
    }
   ],
   "source": [
    "frequency_distribution.plot(20, cumulative=False)"
   ]
  },
  {
   "cell_type": "markdown",
   "id": "c246c41d",
   "metadata": {},
   "source": [
    "### Collocations of \"vaccine\""
   ]
  },
  {
   "cell_type": "code",
   "execution_count": 22,
   "id": "bca25490",
   "metadata": {},
   "outputs": [
    {
     "data": {
      "text/plain": [
       "[('polio', 'vaccine'),\n",
       " ('figures', 'vaccine'),\n",
       " ('forefront', 'vaccine'),\n",
       " ('vaccine', 'card'),\n",
       " ('vaccine', 'causes'),\n",
       " ('vaccine', 'hesitancy'),\n",
       " ('vaccine', 'hesitant'),\n",
       " ('vaccine', 'mandates'),\n",
       " ('vaccine', 'okay'),\n",
       " ('vaccine', 'proving')]"
      ]
     },
     "execution_count": 22,
     "metadata": {},
     "output_type": "execute_result"
    }
   ],
   "source": [
    "bigram_measures = nltk.collocations.BigramAssocMeasures()\n",
    "word_filter = lambda *w: 'vaccine' not in w\n",
    "finder = BigramCollocationFinder.from_words(transformed_posts)\n",
    "finder.apply_ngram_filter(word_filter)\n",
    "finder.nbest(bigram_measures.likelihood_ratio , 10)"
   ]
  },
  {
   "cell_type": "code",
   "execution_count": 23,
   "id": "1cedb8ce",
   "metadata": {},
   "outputs": [
    {
     "name": "stdout",
     "output_type": "stream",
     "text": [
      "side saying; fake news; executes clientside; screen shot; affect\n",
      "fertility; financial incentive; points view; young women; costs money;\n",
      "follow money\n"
     ]
    }
   ],
   "source": [
    "transformed_posts.collocations(10)"
   ]
  },
  {
   "cell_type": "code",
   "execution_count": null,
   "id": "76586f23",
   "metadata": {},
   "outputs": [],
   "source": []
  }
 ],
 "metadata": {
  "kernelspec": {
   "display_name": "Python 3",
   "language": "python",
   "name": "python3"
  },
  "language_info": {
   "codemirror_mode": {
    "name": "ipython",
    "version": 3
   },
   "file_extension": ".py",
   "mimetype": "text/x-python",
   "name": "python",
   "nbconvert_exporter": "python",
   "pygments_lexer": "ipython3",
   "version": "3.8.8"
  }
 },
 "nbformat": 4,
 "nbformat_minor": 5
}
